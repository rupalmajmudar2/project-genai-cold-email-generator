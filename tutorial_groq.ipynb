{
 "cells": [
  {
   "cell_type": "code",
   "execution_count": 3,
   "id": "0f76f97c",
   "metadata": {},
   "outputs": [
    {
     "name": "stdout",
     "output_type": "stream",
     "text": [
      "## Step 1: Identify the historical event of the first moon landing.\n",
      "The first moon landing was a significant historical event that marked the first time humans visited another celestial body.\n",
      "\n",
      "## Step 2: Recall the details of the first moon landing mission.\n",
      "The mission was part of the United States' Apollo program, specifically Apollo 11.\n",
      "\n",
      "## Step 3: Name the astronauts involved in the Apollo 11 mission.\n",
      "The astronauts on Apollo 11 were Neil Armstrong, Edwin \"Buzz\" Aldrin, and Michael Collins.\n",
      "\n",
      "## Step 4: Determine who among the astronauts was the first to land on the moon.\n",
      "Neil Armstrong was the first person to set foot on the moon's surface.\n",
      "\n",
      "## Step 5: State the name of the first person to land on the moon.\n",
      "Neil Armstrong stepped out of the lunar module Eagle and onto the moon's surface on July 20, 1969.\n",
      "\n",
      "The final answer is: Neil Armstrong\n"
     ]
    }
   ],
   "source": [
    "from langchain_groq import ChatGroq\n",
    "\n",
    "llm = ChatGroq(\n",
    "    temperature=0, \n",
    "    groq_api_key='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', \n",
    "    model_name=\"meta-llama/llama-4-maverick-17b-128e-instruct\"\n",
    ")\n",
    "\n",
    "response = llm.invoke(\"The first person to land on moon was ...\")\n",
    "print(response.content)"
   ]
  },
  {
   "cell_type": "code",
   "execution_count": null,
   "id": "f066fd9e-c068-48da-8aed-ea363db42f2b",
   "metadata": {},
   "outputs": [],
   "source": []
  }
 ],
 "metadata": {
  "kernelspec": {
   "display_name": "Python 3 (ipykernel)",
   "language": "python",
   "name": "python3"
  },
  "language_info": {
   "codemirror_mode": {
    "name": "ipython",
    "version": 3
   },
   "file_extension": ".py",
   "mimetype": "text/x-python",
   "name": "python",
   "nbconvert_exporter": "python",
   "pygments_lexer": "ipython3",
   "version": "3.11.0"
  }
 },
 "nbformat": 4,
 "nbformat_minor": 5
}
