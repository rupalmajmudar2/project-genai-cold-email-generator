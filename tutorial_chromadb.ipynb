{
 "cells": [
  {
   "cell_type": "code",
   "execution_count": 1,
   "id": "e7156610",
   "metadata": {},
   "outputs": [],
   "source": [
    "import chromadb\n",
    "\n",
    "client = chromadb.Client()\n",
    "collection = client.create_collection(name=\"rm_chromadb_collection\")"
   ]
  },
  {
   "cell_type": "code",
   "execution_count": 2,
   "id": "6f35da91",
   "metadata": {},
   "outputs": [],
   "source": [
    "collection.add(\n",
    "    documents=[\n",
    "        \"This RM document is about New York\",\n",
    "        \"This RM document is about Delhi\"\n",
    "    ],\n",
    "    ids = ['id1', 'id2']\n",
    ")"
   ]
  },
  {
   "cell_type": "code",
   "execution_count": 3,
   "id": "023d55f8",
   "metadata": {},
   "outputs": [
    {
     "data": {
      "text/plain": [
       "{'ids': ['id1', 'id2'],\n",
       " 'embeddings': None,\n",
       " 'documents': ['This RM document is about New York',\n",
       "  'This RM document is about Delhi'],\n",
       " 'uris': None,\n",
       " 'data': None,\n",
       " 'metadatas': [None, None],\n",
       " 'included': [<IncludeEnum.documents: 'documents'>,\n",
       "  <IncludeEnum.metadatas: 'metadatas'>]}"
      ]
     },
     "execution_count": 3,
     "metadata": {},
     "output_type": "execute_result"
    }
   ],
   "source": [
    "all_docs = collection.get()\n",
    "all_docs"
   ]
  },
  {
   "cell_type": "code",
   "execution_count": 4,
   "id": "669928f2",
   "metadata": {},
   "outputs": [
    {
     "data": {
      "text/plain": [
       "{'ids': ['id1'],\n",
       " 'embeddings': None,\n",
       " 'documents': ['This RM document is about New York'],\n",
       " 'uris': None,\n",
       " 'data': None,\n",
       " 'metadatas': [None],\n",
       " 'included': [<IncludeEnum.documents: 'documents'>,\n",
       "  <IncludeEnum.metadatas: 'metadatas'>]}"
      ]
     },
     "execution_count": 4,
     "metadata": {},
     "output_type": "execute_result"
    }
   ],
   "source": [
    "documents = collection.get(ids=[\"id1\"])\n",
    "documents"
   ]
  },
  {
   "cell_type": "code",
   "execution_count": 9,
   "id": "01f89e5b",
   "metadata": {
    "scrolled": true
   },
   "outputs": [
    {
     "data": {
      "text/plain": [
       "{'ids': [['id1', 'id2']],\n",
       " 'embeddings': None,\n",
       " 'documents': [['This RM document is about New York',\n",
       "   'This RM document is about Delhi']],\n",
       " 'uris': None,\n",
       " 'data': None,\n",
       " 'metadatas': [[None, None]],\n",
       " 'distances': [[1.7312403917312622, 2.0664379596710205]],\n",
       " 'included': [<IncludeEnum.distances: 'distances'>,\n",
       "  <IncludeEnum.documents: 'documents'>,\n",
       "  <IncludeEnum.metadatas: 'metadatas'>]}"
      ]
     },
     "execution_count": 9,
     "metadata": {},
     "output_type": "execute_result"
    }
   ],
   "source": [
    "results = collection.query(\n",
    "    query_texts=['Big apple'],\n",
    "    n_results=2\n",
    ")\n",
    "results"
   ]
  },
  {
   "cell_type": "code",
   "execution_count": 12,
   "id": "4492fd01",
   "metadata": {},
   "outputs": [
    {
     "data": {
      "text/plain": [
       "{'ids': [],\n",
       " 'embeddings': None,\n",
       " 'metadatas': [],\n",
       " 'documents': [],\n",
       " 'uris': None,\n",
       " 'data': None}"
      ]
     },
     "execution_count": 12,
     "metadata": {},
     "output_type": "execute_result"
    }
   ],
   "source": [
    "collection.delete(ids=all_docs['ids'])\n",
    "collection.get()"
   ]
  },
  {
   "cell_type": "code",
   "execution_count": 10,
   "id": "197e4bad",
   "metadata": {},
   "outputs": [
    {
     "data": {
      "text/plain": [
       "{'ids': ['id1', 'id2', 'id3', 'id4'],\n",
       " 'embeddings': None,\n",
       " 'documents': ['This RM document is about New York',\n",
       "  'This RM document is about Delhi',\n",
       "  'This RM2 document is about New York',\n",
       "  'This RM2 document is about Delhi'],\n",
       " 'uris': None,\n",
       " 'data': None,\n",
       " 'metadatas': [None,\n",
       "  None,\n",
       "  {'url': 'https://en.wikipedia.org/wiki/New_York_City'},\n",
       "  {'url': 'https://en.wikipedia.org/wiki/New_Delhi'}],\n",
       " 'included': [<IncludeEnum.documents: 'documents'>,\n",
       "  <IncludeEnum.metadatas: 'metadatas'>]}"
      ]
     },
     "execution_count": 10,
     "metadata": {},
     "output_type": "execute_result"
    }
   ],
   "source": [
    "collection.add(\n",
    "    documents=[\n",
    "        \"This RM2 document is about New York\",\n",
    "        \"This RM2 document is about Delhi\"\n",
    "    ],\n",
    "    ids=[\"id3\", \"id4\"],\n",
    "    metadatas=[\n",
    "        {\"url\": \"https://en.wikipedia.org/wiki/New_York_City\"},\n",
    "        {\"url\": \"https://en.wikipedia.org/wiki/New_Delhi\"}\n",
    "    ]\n",
    ")\n",
    "collection.get()"
   ]
  },
  {
   "cell_type": "code",
   "execution_count": 11,
   "id": "d25c8d29",
   "metadata": {},
   "outputs": [
    {
     "data": {
      "text/plain": [
       "{'ids': [['id2', 'id4']],\n",
       " 'embeddings': None,\n",
       " 'documents': [['This RM document is about Delhi',\n",
       "   'This RM2 document is about Delhi']],\n",
       " 'uris': None,\n",
       " 'data': None,\n",
       " 'metadatas': [[None, {'url': 'https://en.wikipedia.org/wiki/New_Delhi'}]],\n",
       " 'distances': [[1.4780430793762207, 1.5168392658233643]],\n",
       " 'included': [<IncludeEnum.distances: 'distances'>,\n",
       "  <IncludeEnum.documents: 'documents'>,\n",
       "  <IncludeEnum.metadatas: 'metadatas'>]}"
      ]
     },
     "execution_count": 11,
     "metadata": {},
     "output_type": "execute_result"
    }
   ],
   "source": [
    "results = collection.query(\n",
    "    query_texts=[\"Query is about Chhole Bhature\"],\n",
    "    n_results=2\n",
    ")\n",
    "results"
   ]
  },
  {
   "cell_type": "code",
   "execution_count": null,
   "id": "4085306c-f9d4-4a15-8f75-1fdb1c5795f1",
   "metadata": {},
   "outputs": [],
   "source": []
  }
 ],
 "metadata": {
  "kernelspec": {
   "display_name": "Python 3 (ipykernel)",
   "language": "python",
   "name": "python3"
  },
  "language_info": {
   "codemirror_mode": {
    "name": "ipython",
    "version": 3
   },
   "file_extension": ".py",
   "mimetype": "text/x-python",
   "name": "python",
   "nbconvert_exporter": "python",
   "pygments_lexer": "ipython3",
   "version": "3.11.0"
  }
 },
 "nbformat": 4,
 "nbformat_minor": 5
}
